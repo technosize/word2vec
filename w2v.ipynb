{
 "cells": [
  {
   "cell_type": "code",
   "execution_count": 1,
   "metadata": {},
   "outputs": [],
   "source": [
    "import torch\n",
    "from torch.autograd import Variable\n",
    "import numpy as np\n",
    "import torch.functional as F\n",
    "import torch.nn.functional as F\n",
    "import torch.nn as nn"
   ]
  },
  {
   "cell_type": "code",
   "execution_count": 2,
   "metadata": {},
   "outputs": [],
   "source": [
    "corpus = [\n",
    "    'he is a king',\n",
    "    'she is a queen',\n",
    "    'he is a man',\n",
    "    'she is a woman',\n",
    "    'warsaw is poland capital',\n",
    "    'berlin is germany capital',\n",
    "    'paris is france capital',  \n",
    "    'boy is a young man',\n",
    "    'girl is a young woman' \n",
    "]"
   ]
  },
  {
   "cell_type": "code",
   "execution_count": 3,
   "metadata": {},
   "outputs": [],
   "source": [
    "def tokenize_corpus(corpus):\n",
    "    tokens = [x.split() for x in corpus]\n",
    "    return tokens\n",
    "\n",
    "tokenized_corpus = tokenize_corpus(corpus)"
   ]
  },
  {
   "cell_type": "code",
   "execution_count": 4,
   "metadata": {},
   "outputs": [
    {
     "name": "stdout",
     "output_type": "stream",
     "text": [
      "vocabulary size: 18\n",
      "0 he\n",
      "1 is\n",
      "2 a\n",
      "3 king\n",
      "4 she\n",
      "5 queen\n",
      "6 man\n",
      "7 woman\n",
      "8 warsaw\n",
      "9 poland\n",
      "10 capital\n",
      "11 berlin\n",
      "12 germany\n",
      "13 paris\n",
      "14 france\n",
      "15 boy\n",
      "16 young\n",
      "17 girl\n"
     ]
    }
   ],
   "source": [
    "vocabulary = []\n",
    "for sentence in tokenized_corpus:\n",
    "    for token in sentence:\n",
    "        if token not in vocabulary:\n",
    "            vocabulary.append(token)\n",
    "\n",
    "word2idx = {w: idx for (idx, w) in enumerate(vocabulary)}\n",
    "idx2word = {idx: w for (idx, w) in enumerate(vocabulary)}\n",
    "\n",
    "vocabulary_size = len(vocabulary)\n",
    "print(\"vocabulary size:\", vocabulary_size)\n",
    "for i in range(vocabulary_size):\n",
    "    print(i, idx2word[i]) "
   ]
  },
  {
   "cell_type": "code",
   "execution_count": 5,
   "metadata": {},
   "outputs": [
    {
     "name": "stdout",
     "output_type": "stream",
     "text": [
      "he(0)  is(1)\n",
      "he(0)  a(2)\n",
      "is(1)  he(0)\n",
      "is(1)  a(2)\n",
      "is(1)  king(3)\n",
      "a(2)  he(0)\n",
      "a(2)  is(1)\n",
      "a(2)  king(3)\n",
      "king(3)  is(1)\n",
      "king(3)  a(2)\n",
      "she(4)  is(1)\n",
      "she(4)  a(2)\n",
      "is(1)  she(4)\n",
      "is(1)  a(2)\n",
      "is(1)  queen(5)\n",
      "a(2)  she(4)\n",
      "a(2)  is(1)\n",
      "a(2)  queen(5)\n",
      "queen(5)  is(1)\n",
      "queen(5)  a(2)\n",
      "he(0)  is(1)\n",
      "he(0)  a(2)\n",
      "is(1)  he(0)\n",
      "is(1)  a(2)\n",
      "is(1)  man(6)\n",
      "a(2)  he(0)\n",
      "a(2)  is(1)\n",
      "a(2)  man(6)\n",
      "man(6)  is(1)\n",
      "man(6)  a(2)\n",
      "she(4)  is(1)\n",
      "she(4)  a(2)\n",
      "is(1)  she(4)\n",
      "is(1)  a(2)\n",
      "is(1)  woman(7)\n",
      "a(2)  she(4)\n",
      "a(2)  is(1)\n",
      "a(2)  woman(7)\n",
      "woman(7)  is(1)\n",
      "woman(7)  a(2)\n",
      "warsaw(8)  is(1)\n",
      "warsaw(8)  poland(9)\n",
      "is(1)  warsaw(8)\n",
      "is(1)  poland(9)\n",
      "is(1)  capital(10)\n",
      "poland(9)  warsaw(8)\n",
      "poland(9)  is(1)\n",
      "poland(9)  capital(10)\n",
      "capital(10)  is(1)\n",
      "capital(10)  poland(9)\n",
      "berlin(11)  is(1)\n",
      "berlin(11)  germany(12)\n",
      "is(1)  berlin(11)\n",
      "is(1)  germany(12)\n",
      "is(1)  capital(10)\n",
      "germany(12)  berlin(11)\n",
      "germany(12)  is(1)\n",
      "germany(12)  capital(10)\n",
      "capital(10)  is(1)\n",
      "capital(10)  germany(12)\n",
      "paris(13)  is(1)\n",
      "paris(13)  france(14)\n",
      "is(1)  paris(13)\n",
      "is(1)  france(14)\n",
      "is(1)  capital(10)\n",
      "france(14)  paris(13)\n",
      "france(14)  is(1)\n",
      "france(14)  capital(10)\n",
      "capital(10)  is(1)\n",
      "capital(10)  france(14)\n",
      "boy(15)  is(1)\n",
      "boy(15)  a(2)\n",
      "is(1)  boy(15)\n",
      "is(1)  a(2)\n",
      "is(1)  young(16)\n",
      "a(2)  boy(15)\n",
      "a(2)  is(1)\n",
      "a(2)  young(16)\n",
      "a(2)  man(6)\n",
      "young(16)  is(1)\n",
      "young(16)  a(2)\n",
      "young(16)  man(6)\n",
      "man(6)  a(2)\n",
      "man(6)  young(16)\n",
      "girl(17)  is(1)\n",
      "girl(17)  a(2)\n",
      "is(1)  girl(17)\n",
      "is(1)  a(2)\n",
      "is(1)  young(16)\n",
      "a(2)  girl(17)\n",
      "a(2)  is(1)\n",
      "a(2)  young(16)\n",
      "a(2)  woman(7)\n",
      "young(16)  is(1)\n",
      "young(16)  a(2)\n",
      "young(16)  woman(7)\n",
      "woman(7)  a(2)\n",
      "woman(7)  young(16)\n"
     ]
    }
   ],
   "source": [
    "window_size = 2\n",
    "idx_pairs = []\n",
    "# for each sentence\n",
    "for sentence in tokenized_corpus:\n",
    "    indices = [word2idx[word] for word in sentence]\n",
    "    # for each word, threated as center word\n",
    "    for center_word_pos in range(len(indices)):\n",
    "        # for each window position\n",
    "        for w in range(-window_size, window_size + 1):\n",
    "            context_word_pos = center_word_pos + w\n",
    "            # make soure not jump out sentence\n",
    "            if context_word_pos < 0 or context_word_pos >= len(indices) or center_word_pos == context_word_pos:\n",
    "                continue\n",
    "            context_word_idx = indices[context_word_pos]\n",
    "            idx_pairs.append((indices[center_word_pos], context_word_idx))\n",
    "\n",
    "idx_pairs = np.array(idx_pairs) # it will be useful to have this as numpy array\n",
    "\n",
    "for data, target in idx_pairs:\n",
    "    print(f'{idx2word[data]}({data})  {idx2word[target]}({target})')"
   ]
  },
  {
   "cell_type": "code",
   "execution_count": 9,
   "metadata": {},
   "outputs": [
    {
     "name": "stdout",
     "output_type": "stream",
     "text": [
      "tensor([0., 1., 0., 0., 0., 0., 0., 0., 0., 0., 0., 0., 0., 0., 0., 0., 0., 0.])\n"
     ]
    }
   ],
   "source": [
    "def get_input_layer(word_idx):\n",
    "    x = torch.zeros(vocabulary_size).float()\n",
    "    x[word_idx] = 1.0\n",
    "    return x\n",
    "\n",
    "#example\n",
    "print (get_input_layer(1))"
   ]
  },
  {
   "cell_type": "code",
   "execution_count": 13,
   "metadata": {},
   "outputs": [
    {
     "name": "stdout",
     "output_type": "stream",
     "text": [
      "model1(\n",
      "  (fc1): Linear(in_features=18, out_features=50, bias=True)\n",
      "  (fc3): Linear(in_features=50, out_features=18, bias=True)\n",
      ")\n"
     ]
    }
   ],
   "source": [
    "## Define the NN architecture\n",
    "embedding_dims = 50\n",
    "#embedding_dims_1 = 100\n",
    "\n",
    "class model1(nn.Module):\n",
    "    def __init__(self):\n",
    "        super(model1, self).__init__()\n",
    "        self.fc1 = nn.Linear(vocabulary_size, embedding_dims)\n",
    "        #self.fc2 = nn.Linear(embedding_dims, embedding_dims)\n",
    "        self.fc3 = nn.Linear(embedding_dims, vocabulary_size)\n",
    "        #self.dropout = nn.Dropout(0.2)\n",
    "\n",
    "    def forward(self, x):\n",
    "        x = self.fc1(x)\n",
    "        #x = F.relu(x)\n",
    "        #x = self.fc2(x)\n",
    "        #x = F.relu(x)\n",
    "        x = self.fc3(x)\n",
    "        x = F.log_softmax(x, dim=0)\n",
    "        return x\n",
    "\n",
    "model = model1()    \n",
    "print (model)\n"
   ]
  },
  {
   "cell_type": "code",
   "execution_count": 11,
   "metadata": {},
   "outputs": [],
   "source": [
    "# specify optimizer\n",
    "optimizer = torch.optim.SGD(model.parameters(), lr=0.01)"
   ]
  },
  {
   "cell_type": "code",
   "execution_count": 12,
   "metadata": {},
   "outputs": [
    {
     "name": "stdout",
     "output_type": "stream",
     "text": [
      "Loss at epo 0: 2.7743921644833622\n",
      "Loss at epo 10: 2.285799517315261\n",
      "Loss at epo 20: 2.170347728291336\n",
      "Loss at epo 30: 2.086288149867739\n",
      "Loss at epo 40: 2.019194165662843\n",
      "Loss at epo 50: 1.9624687925893434\n",
      "Loss at epo 60: 1.9143527557655258\n",
      "Loss at epo 70: 1.8741928892476218\n",
      "Loss at epo 80: 1.8412507717706719\n",
      "Loss at epo 90: 1.8147608461428661\n",
      "Loss at epo 100: 1.793970336719435\n",
      "Loss at epo 110: 1.7780424873439633\n",
      "Loss at epo 120: 1.7660598602830146\n",
      "Loss at epo 130: 1.7571258739549287\n",
      "Loss at epo 140: 1.7504638549016447\n",
      "Loss at epo 150: 1.7454607955047063\n",
      "Loss at epo 160: 1.7416613509460372\n",
      "Loss at epo 170: 1.7387381323746272\n",
      "Loss at epo 180: 1.7364587108699643\n",
      "Loss at epo 190: 1.734657745580284\n",
      "Loss at epo 200: 1.7332169924463545\n",
      "Loss at epo 210: 1.7320508123660574\n",
      "Loss at epo 220: 1.7310963759616929\n",
      "Loss at epo 230: 1.730307190393915\n",
      "Loss at epo 240: 1.7296482713855044\n",
      "Loss at epo 250: 1.7290930814889012\n",
      "Loss at epo 260: 1.728621278490339\n",
      "Loss at epo 270: 1.7282170574275815\n",
      "Loss at epo 280: 1.727868111157904\n",
      "Loss at epo 290: 1.7275646541799818\n"
     ]
    }
   ],
   "source": [
    "n = 300\n",
    "\n",
    "for i in range(n):\n",
    "    losses = 0\n",
    "    for data, target in idx_pairs:\n",
    "        optimizer.zero_grad()\n",
    "\n",
    "        x = Variable(get_input_layer(data)).float()\n",
    "        y_true = Variable(torch.from_numpy(np.array([target])).long())    \n",
    "    \n",
    "        y_pred = model(x)\n",
    "\n",
    "        loss = F.nll_loss(y_pred.view(1,-1), y_true)\n",
    "        losses += loss.item()\n",
    "        loss.backward()\n",
    "\n",
    "        optimizer.step()\n",
    "             \n",
    "    if i % 10 == 0: \n",
    "        print(f'Loss at epo {i}: {losses/len(idx_pairs)}')       \n",
    "    \n",
    "    "
   ]
  }
 ],
 "metadata": {
  "kernelspec": {
   "display_name": "Python 3",
   "language": "python",
   "name": "python3"
  },
  "language_info": {
   "codemirror_mode": {
    "name": "ipython",
    "version": 3
   },
   "file_extension": ".py",
   "mimetype": "text/x-python",
   "name": "python",
   "nbconvert_exporter": "python",
   "pygments_lexer": "ipython3",
   "version": "3.11.3"
  }
 },
 "nbformat": 4,
 "nbformat_minor": 2
}
